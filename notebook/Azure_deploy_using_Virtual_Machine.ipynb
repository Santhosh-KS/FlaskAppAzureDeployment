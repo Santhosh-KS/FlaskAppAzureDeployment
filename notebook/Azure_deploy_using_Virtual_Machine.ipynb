{
 "cells": [
  {
   "cell_type": "markdown",
   "metadata": {},
   "source": [
    "# Deploy Web application using Azure VM instance\n",
    "\n",
    "In this exercise we will learn how to deploy our web app by creating a VM instance in Azure cloud infrastructure. As a prerequisite we assume you have created the [Azure cloud account](https://portal.azure.com). "
   ]
  },
  {
   "cell_type": "markdown",
   "metadata": {},
   "source": [
    "## Create a VM\n",
    "\n",
    "![](images/vm/step_1.png)"
   ]
  },
  {
   "cell_type": "markdown",
   "metadata": {},
   "source": [
    "Click on `Ubuntu Server -18.04 LTS`  and select `learn more`\n",
    "![](images/vm/step_2.png)"
   ]
  },
  {
   "cell_type": "markdown",
   "metadata": {},
   "source": [
    "## Select a default template\n",
    "<br>\n",
    "We are going to select the pre-set configuration for our VM server. Azure will pick the size of the VM and number of CPU's and RAM etc. You can change these configuration depending on your needs.\n",
    "\n",
    "![](images/vm/step_3.png)"
   ]
  },
  {
   "cell_type": "markdown",
   "metadata": {},
   "source": [
    "![](images/vm/step_4.png)"
   ]
  },
  {
   "cell_type": "markdown",
   "metadata": {},
   "source": [
    "![](images/vm/step_5.png)"
   ]
  },
  {
   "cell_type": "markdown",
   "metadata": {},
   "source": [
    "![](images/vm/step_6.png)"
   ]
  },
  {
   "cell_type": "markdown",
   "metadata": {},
   "source": [
    "![](images/vm/step_7.png)"
   ]
  },
  {
   "cell_type": "markdown",
   "metadata": {},
   "source": [
    "![](images/vm/step_8.png)"
   ]
  },
  {
   "cell_type": "markdown",
   "metadata": {},
   "source": [
    "![](images/vm/step_9.png)"
   ]
  },
  {
   "cell_type": "markdown",
   "metadata": {},
   "source": [
    "Since we are using an initial default template, we have already selected the size of our virtual machine. Hence we leave it default. Most of the deployment does not require the GPU to evaluate. But if your model requires a GPU to evaluate for some reason. Then you need to change VM instance and select the appropriate GPU options. But for now we use the default instance.\n",
    "\n",
    "![](images/vm/step_10.png)"
   ]
  },
  {
   "cell_type": "markdown",
   "metadata": {},
   "source": [
    "We can use ssh-key based login or password based login. Ideally we should use the ssh-key based login, which is more secure. Here we are using the `password` authentication method for demo purposes.\n",
    "<br>\n",
    "Also note that we need to keep port 22 open to be able to `ssh` to our virtual machine. We need to remember to close this port once we are done with deploying our application.\n",
    "![](images/vm/step_11.png)"
   ]
  },
  {
   "cell_type": "markdown",
   "metadata": {},
   "source": [
    "![](images/vm/step_12.png)"
   ]
  },
  {
   "cell_type": "markdown",
   "metadata": {},
   "source": [
    "Once we hit the `create` button, we just need to wait for the VM to get composed. If you are seeing some snapshots similar to shown below, you should be good.\n",
    "<br>\n",
    "![](images/vm/step_13.png)"
   ]
  },
  {
   "cell_type": "markdown",
   "metadata": {},
   "source": [
    "![](images/vm/step_14.png)"
   ]
  },
  {
   "cell_type": "markdown",
   "metadata": {},
   "source": [
    "![](images/vm/step_15.png)"
   ]
  },
  {
   "cell_type": "markdown",
   "metadata": {},
   "source": [
    "Now, our Virtual machine resource is ready for use.\n",
    "<br>\n",
    "![](images/vm/step_16.png)"
   ]
  },
  {
   "cell_type": "markdown",
   "metadata": {},
   "source": [
    "Now we are ready with our Virtual machine. We need to note down our public ip address, so that we can configure our webpage to be accessible from the internet. You find your public ip address as shown below in the overview page of the dashboard.\n",
    "\n",
    "![](images/vm/step_17.png)"
   ]
  },
  {
   "cell_type": "markdown",
   "metadata": {},
   "source": [
    "## Configure the VM to launch our web app.\n",
    "\n",
    "We can connect to our VM using linux terminal or Putty from windows. Here we use Azure CLI to connect with VM. You can run the same commands in linux /putty terminal. We do need the public ip of our VM to be able to connect.\n",
    "<br>\n",
    "![](images/vm/step_18.png)"
   ]
  },
  {
   "cell_type": "markdown",
   "metadata": {},
   "source": [
    "![](images/vm/step_19.png)"
   ]
  },
  {
   "cell_type": "markdown",
   "metadata": {},
   "source": [
    "## ssh connection to VM\n",
    "\n",
    "We use the `username` and `public ip` to connect to our VM. Earlier, in the setup process, we configured `username` and `password` for `ssh` connections. In our example we created a user as `opencv`. We use the same user name to connect to our VM. Please note that, you need to provide the `username` you provided during configuration and the `public ip` address of your Virtual machine. `public ip` will be unique for each of the VM created in the Azure cloud.\n",
    "\n",
    "**NOTE:** When you type password in the CLI, it will not show any characters such as `****`. Once you completed typing your password, hit enter key, that will login with your typed password. If it fails, re-try with correct password.\n",
    "\n",
    "<br>\n",
    "\n",
    "![](images/vm/step_20.png)"
   ]
  },
  {
   "cell_type": "markdown",
   "metadata": {},
   "source": [
    "After providing the valid `ssh` username and password. You should be able to login to the Virtual machine which you have created. Here is a snapshot of how the successful login looks like.\n",
    "<br>\n",
    "![](images/vm/step_21.png)"
   ]
  },
  {
   "cell_type": "markdown",
   "metadata": {},
   "source": [
    "## Configuring VM\n",
    "\n",
    "update the existing software `sudo apt update`\n",
    "<br>\n",
    "![](images/vm/step_22.png)"
   ]
  },
  {
   "cell_type": "markdown",
   "metadata": {},
   "source": [
    "Install python virtual environment dependencies. `sudo apt python3-venv`\n",
    "![](images/vm/step_23.png)"
   ]
  },
  {
   "cell_type": "markdown",
   "metadata": {},
   "source": [
    "create a virtual environment. We will create a virtual environment for our deployment named `deployment`\n",
    "<br>\n",
    "1. `sudo python3 -m venv deployment`\n",
    "<br>\n",
    "\n",
    "Activate the virutal environment.\n",
    "<br>\n",
    "2. `source deployment/bin/activate`\n",
    "<br>\n",
    "\n",
    "![](images/vm/step_24.png)"
   ]
  },
  {
   "cell_type": "markdown",
   "metadata": {},
   "source": [
    "Clone the repository\n",
    "<br>\n",
    "1. `git clone https://github.com/bigvisionai/pytorch-web-app-deploy-azure.git`\n",
    "2. `cd pytorch-web-app-deploy-azure`\n",
    "<br>\n",
    "\n",
    "![](images/vm/step_25.png)"
   ]
  },
  {
   "cell_type": "markdown",
   "metadata": {},
   "source": [
    "Install the python dependencies to run our application.\n",
    "`pip install -r requirements.txt`\n",
    "<br>\n",
    "\n",
    "![](images/vm/step_26.png)"
   ]
  },
  {
   "cell_type": "markdown",
   "metadata": {},
   "source": [
    "You may observe some errors for `bdist_wheel`, but they are fine. You should observe the output as shown below."
   ]
  },
  {
   "cell_type": "markdown",
   "metadata": {},
   "source": [
    "![](images/vm/step_install_errors.png)"
   ]
  },
  {
   "cell_type": "markdown",
   "metadata": {},
   "source": [
    "## Test run the application\n",
    "\n",
    "Test the app to check if everything is loading as expected, without any errors. As part of test process we need to note down the port on which our application is running. It is important to note the `port` number as we need it to configure our network parameters in next step.\n",
    "\n",
    "\n",
    "![](images/vm/step_27.png)"
   ]
  },
  {
   "cell_type": "markdown",
   "metadata": {},
   "source": [
    "## Configure the network\n",
    "\n",
    "Since our App will be running in the Virtual environment in the Azure cloud, we cannot access our application from the internet directly. We need to configure our network to be able to access it from external network. For that we need to add the port number of our application. i.e the ports on which our application is listening for request. In our case, from our previous step we noted that our application is listening on port `8000`. So we need to add `8000` port in the network configuration. Let us see how it is done.\n",
    "1. Navigate to the Azure dash board.\n",
    "2. Click on the `Networking` options on the left hand side of the panel.\n",
    "\n",
    "![](images/vm/step_28.png)"
   ]
  },
  {
   "cell_type": "markdown",
   "metadata": {},
   "source": [
    "Your networking panel should look as shown below. Click on `Add inbound port rule` button.\n",
    "\n",
    "![](images/vm/step_29.png)"
   ]
  },
  {
   "cell_type": "markdown",
   "metadata": {},
   "source": [
    "1. Add the port `8000` in the `Destination port ranges` field. \n",
    "2. Give it some name to be easily recognizable in the dash board. \n",
    "3. Click Add button to add the new rule."
   ]
  },
  {
   "cell_type": "markdown",
   "metadata": {},
   "source": [
    "![](images/vm/step_30.png)"
   ]
  },
  {
   "cell_type": "markdown",
   "metadata": {},
   "source": [
    "Newly added rule should show up as shown below.\n",
    "\n",
    "![](images/vm/step_31.png)"
   ]
  },
  {
   "cell_type": "markdown",
   "metadata": {},
   "source": [
    "## Set environment variables.\n",
    "\n",
    "Now we are almost ready to launch our app and be able to access it from the external network. But before that, remember our application expects some `Environment` variables, which we need to export. Please note that special care should be taken about your `SECRET_KEY` variable. As this varialbe will be used to encrypt the session and cookies related information of your web app."
   ]
  },
  {
   "cell_type": "markdown",
   "metadata": {},
   "source": [
    "![](images/vm/step_32.png)"
   ]
  },
  {
   "cell_type": "markdown",
   "metadata": {},
   "source": [
    "## Run the app\n",
    "\n",
    "Run the command `gunicorn --bind 0.0.0.0 -w 4 wsgi:app` in CLI. This will start the our application with 4 workers. You can change the number of workers to spawn depending on the load you expect on your server.\n",
    "Now open your browser and a new tab. give `<your_public_ip>:8000` in the new tab. That should open the app!"
   ]
  },
  {
   "cell_type": "markdown",
   "metadata": {},
   "source": [
    "![](images/vm/step_33.png)"
   ]
  },
  {
   "cell_type": "markdown",
   "metadata": {},
   "source": [
    "![](images/vm/step_34.png)"
   ]
  },
  {
   "cell_type": "markdown",
   "metadata": {},
   "source": [
    "![](images/vm/step_35.png)"
   ]
  },
  {
   "cell_type": "markdown",
   "metadata": {},
   "source": [
    "![](images/vm/step_36.png)"
   ]
  },
  {
   "cell_type": "markdown",
   "metadata": {},
   "source": [
    "# Robust deployment\n",
    "\n",
    "Even though we were successfully able to deploy our application. There are few limitations or drawbacks with the approach being followed.\n",
    "<br>\n",
    "1. If you exit the session or close the terminal where you launched the application; Our application is no longer available!\n",
    "2. It is a bit of inconvenience to give `port` number `8000` or `5000` at the end of the IP/domain name to land in to your app.\n",
    "3. What if you want to give your domain name instead of ip address? How do we do that?\n",
    "4. What if your VM restarts for some reason? But, your application doesn't launch automatically.\n",
    "5. How will you Update your app? How will you keep up your app with the newer versions of Python and its dependencies?\n",
    "\n",
    "We need to do some more engineering to achieve the above listed limitations with our current deployment strategy.\n",
    "Let us address each one of them. Before we being let us login to our Virtual machine. \n",
    "`ssh <your_user_name>@<your_ip_address>`"
   ]
  },
  {
   "cell_type": "markdown",
   "metadata": {},
   "source": [
    "## nginx and uwsgi \n",
    "\n",
    "We will use `nginx` as our webserver and `uwsgi` as hosting service to host our Flask application. \n",
    "\n",
    "### Installation\n",
    "We will also install latest `python3.8` packages to demonstrate the package updation process.\n",
    "\n",
    "```sh\n",
    "$ sudo apt install python3.8 python3.8-dev python3-distutils uwsgi uwsgi-src uuid-dev libcap-dev libpcre3-dev python3-pip python3.8-venv nginx\n",
    "```\n",
    "<br>\n",
    "\n",
    "Since we use python3.8, we need to build the matching plugin for `uwsgi`. For that we need the required uwsgi-plugin tools. Let us install the same.\n",
    "\n",
    "```sh\n",
    "$ sudo apt-get install uwsgi-plugin-python3\n",
    "```\n",
    "\n",
    "### Build the uwsgi-plugin\n",
    "Run the following command to build the `uwsgi-plugin`. Let us name the plugin `python38` to know this plugin for the `python3.8` version for our future references.\n",
    "\n",
    "```sh\n",
    "$ export PYTHON=python3.8\n",
    "$ uwsgi --build-plugin \"/usr/src/uwsgi/plugins/python python38\"\n",
    "```\n",
    "Above command will generate `python38_plugin.so` file in the current working directory. We need to move it to appropriate location. And give proper permissions to be able to access it.\n",
    "\n",
    "```sh\n",
    "$ sudo mv python38_plugin.so /usr/lib/uwsgi/plugins/python38_plugin.so\n",
    "$ sudo chmod 666 /usr/lib/uwsgi/plugins/python38_plugin.so\n",
    "```\n",
    "\n",
    "### Create a new virtual environment with python3.8\n",
    "<br>\n",
    "There is nothing special about this. Except we create a new virtual environment with `python3.8` and install our project dependencies.\n",
    "<br>\n",
    "\n",
    "```sh\n",
    "$ cd \n",
    "$ python3.8 -m venv python38\n",
    "$ source python38/bin/activate\n",
    "$ git clone https://github.com/bigvisionai/pytorch-web-app-deploy-azure.git\n",
    "$ cd pytorch-web-app-deploy-azure\n",
    "$ pip install -r requirements.txt\n",
    "```\n",
    "Above steps should install the project dependencies.\n",
    "\n",
    "### Configure our app with uwsgi configuration.\n",
    "<br>\n",
    "\n",
    "We will create a `torchapp.ini` configuration file. We use this newly created file to inform `uwsgi` to pick the configurations required for our application using `torchapp.ini` file.\n",
    "\n",
    "**NOTE:** we already have `torchapp.ini` file in our folder. We just need to change the `chdir = /home/opencv/pytorch-web-app-deploy-azure/` depending on the where you cloned the repo. \n",
    "\n",
    "```sh\n",
    "# torchapp.ini \n",
    "[uwsgi]\n",
    "chdir = /home/opencv/pytorch-web-app-deploy-azure/ \n",
    "module = wsgi:app\n",
    "\n",
    "processes = 4\n",
    "threads = 2\n",
    "plugin = python38\n",
    "virtualenv = /home/opencv/python38 \n",
    "\n",
    "master = true\n",
    "socket = torchapp.sock\n",
    "chmod-socket = 666\n",
    "vacuum = true\n",
    "\n",
    "die-on-term = true\n",
    "\n",
    "env = FLASK_APP=wsgi.py\n",
    "env = FLASK_DEBUG=0\n",
    "env = APP_CONFIG_FILE=config.py\n",
    "env = UPLOADED_PHOTOS_DEST=/tmp/images/\n",
    "env = SECRET_KEY=\"Please_enter_your_top_secerte_key\"\n",
    "\n",
    "```"
   ]
  },
  {
   "cell_type": "markdown",
   "metadata": {},
   "source": [
    "Let us get to some details of `torchapp.ini` file"
   ]
  },
  {
   "cell_type": "markdown",
   "metadata": {},
   "source": [
    "We change our root directory as where you have cloned the repository. In this example we have cloned the repo in `/home/opencv/` directory and `git clone` created a directory `pytorch-web-app-deploy-azure` and hence I am mentioning the path as `/home/opencv/pytorch-web-app-deploy-azure/`. You need to change it according to your directory. `uwsgi` will get the relative path for other resources.\n",
    "```sh\n",
    "chdir = /home/opencv/pytorch-web-app-deploy-azure/ \n",
    "module = wsgi:app\n",
    "```\n",
    "And our entry point is present in `wsgi.py`, so we let uwsgi know the same with `module = wsgi:app`\n",
    "\n",
    "```sh\n",
    "processes = 4\n",
    "threads = 2\n",
    "plugin = python38\n",
    "virtualenv = /home/opencv/python38 \n",
    "```\n",
    "As earlier we inform the `uwsgi` to spawn 4 process with 2 threads each. We provide the `uwsgi-python-plugin` and the path of our virtual environment.\n",
    "\n",
    "```sh\n",
    "master = true\n",
    "socket = torchapp.sock\n",
    "chmod-socket = 666\n",
    "vacuum = true\n",
    "\n",
    "die-on-term = true\n",
    "```\n",
    "By setting the `master=true` we will let the uwsgi to run in master mode. When running with the master process mode, the uWSGI server can be gracefully restarted without closing the main sockets.\n",
    "\n",
    "If you remember earlier we were mentioning the port number as `8000` or `5000` etc. Instead of opening a port directly like that we create a UNIX socket named `torch.sock` in the `chdir = /home/opencv/pytorch-web-app-deploy-azure/` directory. This will act as a proxy port to our nginx server. We can configure the nginx server to listen on this UNIX port to route our requests to reach our web pages. We will revisit the `socket = torchapp.sock` options when doing nginx configuration shortly.\n",
    "\n",
    "We need to set permission `666` on the socket. We change the permissions by `chmod-socket = 666` in configuration file.\n",
    "`vacuum = true` tells the uwsgi process to remove and clean up the opened sockets on exit, gracefully.\n",
    "`die-on-term = true`  will let you kill the application by using `ctrl+c` option.\n",
    "\n",
    "If we re-collect from our `config.py` file, we read some of the environment variables in our app. We set the required environment variables as follows.\n",
    "\n",
    "```sh\n",
    "env = FLASK_APP=wsgi.py\n",
    "env = FLASK_DEBUG=0\n",
    "env = APP_CONFIG_FILE=config.py\n",
    "env = UPLOADED_PHOTOS_DEST=/tmp/images/\n",
    "env = SECRET_KEY=\"Please_enter_your_top_secerte_key\"\n",
    "```\n",
    "Again remember to change the `SECRET_KEY=\"Please_enter_your_top_secerte_key\"` to your keys.\n",
    "\n",
    "we can test if the configurations are working fine or not by running the following command.\n",
    "\n",
    "`uwsgi torchapp.ini`. This should show up the familiar logs. One thing to note is you should be able to see `torchapp.sock` file being created when `uwsgi` is running. You can verify the same by logging in VM on a different terminal by changing in to your application directory. In our example `cd  /home/opencv/pytorch-web-app-deploy-azure/ ` and `ls torchapp.sock`.\n",
    "<br>\n",
    "\n",
    "You should also notice that when you kill the application using `ctrl+c` option, you should no longer see the file `torchapp.sock` file in your application directory.\n",
    "\n",
    "With these steps we are one step closer to our goal"
   ]
  },
  {
   "cell_type": "markdown",
   "metadata": {},
   "source": [
    "## Configure nginx\n",
    "\n",
    "We need to have a configuration file to point nginx server to look for. Let us create one.\n",
    "\n",
    "```sh\n",
    "$ sudo vim /etc/nginx/sites-available/torchapp.conf\n",
    "```\n",
    "\n",
    "Add the following lines in to your `/etc/nginx/sites-available/torchapp.conf` file\n",
    "\n",
    "```sh\n",
    "server {\n",
    "    listen 80;\n",
    "    server_name your_server_ip_or_domain_name; \n",
    "\n",
    "    location / {\n",
    "        include uwsgi_params;\n",
    "        uwsgi_pass unix:/home/opencv/pytorch-web-app-deploy-azure/torchapp.sock;\n",
    "    }\n",
    "}\n",
    "```\n",
    "\n",
    "`listen 80` tells the nginx server to listen on port `80` this is the default port for http requests. This will help us to remove the ugly `http://<your_ip_address>:8000` url and make it simple `http://<your_ip_address>`\n",
    "\n",
    "`server_name your_server_ip_or_domain_name;` here you can give your domain name or ip address. For example if your Virtual machine's public ip is `123.1.1.123` then you provide the server name as `server_name 123.1.1.123;`\n",
    "\n",
    "**NOTE:** Do not forget to change the `server_name your_server_ip_or_domain_name`.\n",
    "\n",
    "<br>\n",
    "\n",
    "Suppose if you have a domain name `www.example.com` then your server name looks as `server_name www.example.com`\n",
    "\n",
    "We need to tell the nginx to listen on the proxy port and route the traffic will arrive on port `80` to our application. We can achieve the same as follows."
   ]
  },
  {
   "cell_type": "markdown",
   "metadata": {},
   "source": [
    "```sh\n",
    "    location / {\n",
    "        include uwsgi_params;\n",
    "        uwsgi_pass unix:/home/opencv/pytorch-web-app-deploy-azure/torchapp.sock;\n",
    "    }\n",
    "```\n",
    "It is important to note the line `uwsgi_pass unix:/home/opencv/pytorch-web-app-deploy-azure/torchapp.sock`. Here we are instructing the nginx server to look for the port `torchapp.sock` present in our application directory. \n",
    "\n",
    "**NOTE:** You need to change the path `unix:/home/opencv/pytorch-web-app-deploy-azure/torchapp.sock` according to your path where you cloned the repository.\n",
    "\n",
    "If for some reason uwsgi cannot create the `torchapp.sock` file or nginx doesn't find the socket file `torchapp.sock` then you get the error as shown below."
   ]
  },
  {
   "cell_type": "markdown",
   "metadata": {},
   "source": [
    "![](images/502_bad_gateway_error.png)"
   ]
  },
  {
   "cell_type": "markdown",
   "metadata": {},
   "source": [
    "### Test the nginx configuration file\n",
    "\n",
    "We need to make sure our configuration file doesn't have any syntax errors. We can test the configuration by running the following command\n",
    "\n",
    "```sh\n",
    "$ sudo nginx -T\n",
    "```\n",
    "Suppose we made some syntax error in our script. above command will help us to identify the problem in our script by throwing some error as shown below. \n",
    "```sh\n",
    "nginx: [emerg] directive \"server_name\" is not terminated by \";\" in /etc/nginx/sites-enabled/torchapp.conf:5\n",
    "nginx: configuration file /etc/nginx/nginx.conf test failed \n",
    "```\n",
    "\n",
    "If there are no errors in your configuration file then `sudo nginx -T` command will puts lots of logs on the console with, different configuration file details. Small chunk of log is shown below.\n",
    "\n",
    "```sh\n",
    "....\n",
    "...\n",
    "#server {\n",
    "#\tlisten 80;\n",
    "#\tlisten [::]:80;\n",
    "#\n",
    "#\tserver_name example.com;\n",
    "#\n",
    "#\troot /var/www/example.com;\n",
    "#\tindex index.html;\n",
    "#\n",
    "#\tlocation / {\n",
    "#\t\ttry_files $uri $uri/ =404;\n",
    "#\t}\n",
    "#}\n",
    "\n",
    "# configuration file /etc/nginx/sites-enabled/torchapp.conf:\n",
    "server {\n",
    "    listen 80;\n",
    "    server_name 123.1.1.123; \n",
    "\n",
    "    location / {\n",
    "        include uwsgi_params;\n",
    "        uwsgi_pass unix:/home/opencv/pytorch-web-app-deploy-azure/torchapp.sock;\n",
    "    }\n",
    "}\n",
    "\n",
    "# configuration file /etc/nginx/uwsgi_params:\n",
    "\n",
    "uwsgi_param  QUERY_STRING       $query_string;\n",
    "uwsgi_param  REQUEST_METHOD     $request_method;\n",
    "uwsgi_param  CONTENT_TYPE       $content_type;\n",
    "uwsgi_param  CONTENT_LENGTH     $content_length;\n",
    "....\n",
    "\n",
    "```\n",
    "\n",
    "We can observe in the above log that our configuration file doesn't have any syntax errors. And we can proceed with our configuration steps. Unfortunately above command doesn't validate if the value provided in the fields are valid or not. Say for example you provided incorrect ip address or incorrect domain name. It doesn't validate the same. Hence a special care needs to be taken while entering those values."
   ]
  },
  {
   "cell_type": "markdown",
   "metadata": {},
   "source": [
    "Now we need to inform the nginx service that our application is available and enabled. Here is how we do that.\n",
    "```sh\n",
    "$ sudo ln -s /etc/nginx/sites-available/torchapp.conf /etc/nginx/sites-enabled/torchapp.conf\n",
    "```\n",
    "now we need to restart the nginx service to pick up the latest changes.\n",
    "\n",
    "```sh\n",
    "$ sudo service nginx restart\n",
    "```"
   ]
  },
  {
   "cell_type": "markdown",
   "metadata": {},
   "source": [
    "### Configure the port of VM \n",
    "\n",
    "If we recollect, we did configure the VM network for port `8000`\n",
    "\n",
    "![](images/vm/step_30.png)"
   ]
  },
  {
   "cell_type": "markdown",
   "metadata": {},
   "source": [
    "Now we need to change the value of the port. We want it to be `80` instead of `8000`. Let us edit the same\n",
    "![](images/port_reconfig.png)"
   ]
  },
  {
   "cell_type": "markdown",
   "metadata": {},
   "source": [
    "Now we have fixed the `port` issue and we have a way to provide our custom domain name. We can check if everything is working fine. \n",
    "\n",
    "**Note:** The order of commands run below is important\n",
    "\n",
    "```sh\n",
    "# change to the directory where your application code is cloned.\n",
    "# in our illustration we have our code in the path /home/opencv/pytorch-web-app-deploy-azure\n",
    "$ cd /home/opencv/pytorch-web-app-deploy-azure\n",
    "$ uwsgi torchapp.ini\n",
    "$ sudo service nginx restart\n",
    "```\n",
    "\n",
    "Now we can open the browser and open a new tab and provide our `public ip` or `domain name` to see our friendly web app home page."
   ]
  },
  {
   "cell_type": "markdown",
   "metadata": {},
   "source": [
    "## Fixing the Reboot issue.\n",
    "\n",
    "So far, we have not done anything to fix the reboot issue or session expire issues of our web app. Let us see how to fix the same.\n",
    "<br>\n",
    "There are many approaches we can follow to achieve the same. But we stick with the simplest and reliable option.\n",
    "We will use the `uwsgi`'s `emperor` option to get the work done. This is useful because\n",
    "\n",
    "1. It is simple to use.\n",
    "2. If we want to deploy multiple Web applications in a single VM, we can achive the same quite easily.\n",
    "\n",
    "### Step 1.\n",
    "\n",
    "Let `uwsgi` know what all the available applications in the the VM.\n",
    "\n",
    "```sh\n",
    "$ sudo cp /home/opencv/pytorch-web-app-deploy-azure/torchapp.ini /etc/uwsgi/apps-available/torchapp.ini\n",
    "```\n",
    "Enable the application's to be controlled by `uwsgi`. We can achieve the same by creating a soft link to the configuration file under `apps-enabled` directory.\n",
    "\n",
    "```sh\n",
    "$ sudo ln -s /etc/uwsgi/apps-available/torchapp.ini /etc/uwsgi/apps-enabled/torchapp.ini\n",
    "```\n",
    "\n",
    "### Step 2\n",
    "\n",
    "We use the `/etc/rc.local` file to bring up our application after each reboot. If the file doesn't exist, then just create a new file using the command `sudo touch /etc/rc.local`.\n",
    "Copy and paste the below contents in to the file `/etc/rc.local`. Save and exit. \n",
    "\n",
    "```sh\n",
    "#!/bin/sh -e\n",
    "uwsgi --emperor /etc/uwsgi/apps-enabled/\n",
    "sudo service nginx restart\n",
    "```\n",
    "Make sure the file is not empty, by running the command `cat /etc/rc.local`.\n",
    "<br>\n",
    "\n",
    "We need to change the permissions of the `/etc/rc.local` file by running the below command.\n",
    "\n",
    "```sh\n",
    "$ sudo chmod a+x /etc/rc.local\n",
    "```\n",
    "\n",
    "Thats it! Now we are all set. Go ahead and reboot your virtual machine. After few mins you can directly go to the browser and give your `ip address` or `domain name` in the browser. You can see that page gets loaded as expected.\n",
    "\n"
   ]
  },
  {
   "cell_type": "markdown",
   "metadata": {},
   "source": [
    "## Debugging\n",
    "\n",
    "No matter how hard you try to follow steps, we always end up with some or the other issues. Here are some of the debugging tips to help you get it corrected. It is good idea to go through the complete Debugging sections, to know what kind of issues can arise and how to identify and fix the same.\n",
    "\n",
    "### page not found error\n",
    "\n",
    "Quite often we encounter the page not found error.\n",
    "\n",
    "![](images/error_loading_page.png)\n",
    "\n",
    "It means most probably you don't have the `nginx` server running. Here is how we know the status of the nginx service. \n",
    "\n",
    "```sh\n",
    "$ sudo service nginx status\n",
    "```\n",
    "\n",
    "Here is a sample healthy `nginx` server log.\n",
    "\n",
    "```sh\n",
    "nginx.service - A high performance web server and a reverse proxy server\n",
    "   Loaded: loaded (/lib/systemd/system/nginx.service; enabled; vendor preset: enabled)\n",
    "   Active: active (running) since Thu 2020-05-07 07:35:38 UTC; 5s ago\n",
    "     Docs: man:nginx(8)\n",
    "  Process: 2849 ExecStop=/sbin/start-stop-daemon --quiet --stop --retry QUIT/5 --pidfile /run/nginx.pid (code=exited, status=0/SUCCESS)\n",
    "  Process: 2866 ExecStart=/usr/sbin/nginx -g daemon on; master_process on; (code=exited, status=0/SUCCESS)\n",
    "  Process: 2850 ExecStartPre=/usr/sbin/nginx -t -q -g daemon on; master_process on; (code=exited, status=0/SUCCESS)\n",
    "...\n",
    "...\n",
    "```\n",
    "\n",
    "Note the line `Active: active (running) since ....` in the above log. Which informs that nginx is running and it is active.\n",
    "\n",
    "If there is an error then. Most probably something went wrong with your configuration file which we created `/etc/nginx/sites-available/torchapp.conf`\n",
    "\n",
    "* If there is an error in the `nginx` service then, we need to check our configuration. Run the command `sudo nginx -T`. Hopefully we find some errors in our config file we can fix it, by reading the nginx configuration steps again.\n",
    "\n",
    "* If above two steps are fine with you. Then most probably forgot to enable the port `80` in your network configuration or gave a different port number in your `/etc/nginx/sites-available/torchapp.conf`  and forgot to add it in your network configuration."
   ]
  },
  {
   "cell_type": "markdown",
   "metadata": {},
   "source": [
    "## Page routing to default nginx page.\n",
    "\n",
    "If you encounter a page as shown below.\n",
    "![](images/default_nginx_page.png)\n",
    "\n",
    "It is some good news, your nginx server is working as expected and you have enabled the correct port in VM's network configurations. So what could go wrong?\n",
    "\n",
    "This could basically mean your `uwsgi` could have some problem. Let us see how to debug the same.\n",
    "\n",
    "* Check if your `uwsgi` service is running. If your uwsgi is running then you should see  log something similar to as shown below. \n",
    "```sh\n",
    "ps -A | grep \"uwsgi\"\n",
    "  1096 ?        00:00:00 uwsgi\n",
    "  1180 ?        00:00:01 uwsgi-core\n",
    "  1569 ?        00:00:00 uwsgi-core\n",
    "  1570 ?        00:00:00 uwsgi-core\n",
    "  1571 ?        00:00:00 uwsgi-core\n",
    "  1575 ?        00:00:00 uwsgi-core\n",
    "```\n",
    "* If you see the `uwsgi` is running and have the `torchapp.socket` file is created. Then just restart the `nginx` service `sudo service nginx restart`. Check reloading the page in browser and see if issue is resolved. If not continue reading next debug step.\n",
    "\n",
    "* If there is no output for the `ps -A | grep \"uwsgi\"` in your terminal. Then your uwsgi service is not running. \n",
    "    * This could mean there could be something wrong with your `torchapp.ini` configuration file. Best thing to do is run the command `uwsgi torchapp.ini` manually and check for errors. Make sure `torchapp.socket` file has been created your `chdir = /home/opencv/pytorch-web-app-deploy-azure/` directory. If you don't find it, that is a problem.\n",
    "    * If the above step is working as expected without any errors then the `/home/opencv/pytorch-web-app-deploy-azure/torchapp.ini` and `/etc/uwsgi/apps-available/torchapp.ini` doesn't match. try to run the app with the configuration `uwsgi /etc/uwsgi/apps-available/torchapp.ini` and check if `torchapp.socket` is created.\n",
    "\n"
   ]
  },
  {
   "cell_type": "markdown",
   "metadata": {},
   "source": [
    "## 502 bad Gateway error\n",
    "\n",
    "If you find the error as show below, there are couple of things which could have go wrong.\n",
    "\n",
    "![](images/502_bad_gateway_error.png)\n",
    "\n",
    "*  Make sure `torchapp.socket` file has been created your `chdir = /home/opencv/pytorch-web-app-deploy-azure/` directory. \n",
    "* If the file is present, that means `nginx` is not able to find the socket file `torchapp.socket`. Simple solution is to restart the `nginx` service `sudo service nginx restart` and try reloading page.\n",
    "\n",
    "\n",
    "If you still have some problem, then it is time to ask for help in forums! :)"
   ]
  }
 ],
 "metadata": {
  "kernelspec": {
   "display_name": "Python 3",
   "language": "python",
   "name": "python3"
  },
  "language_info": {
   "codemirror_mode": {
    "name": "ipython",
    "version": 3
   },
   "file_extension": ".py",
   "mimetype": "text/x-python",
   "name": "python",
   "nbconvert_exporter": "python",
   "pygments_lexer": "ipython3",
   "version": "3.6.9"
  }
 },
 "nbformat": 4,
 "nbformat_minor": 4
}
