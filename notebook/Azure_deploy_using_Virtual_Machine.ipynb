{
 "cells": [
  {
   "cell_type": "markdown",
   "metadata": {},
   "source": [
    "# Deploy Web application using Azure VM instance\n",
    "\n",
    "In this exercise we will learn how to deploy our web app by creating a VM instance in Azure cloud infrastructure. As a prerequisite we assume you have created the [Azure cloud account](https://portal.azure.com). "
   ]
  },
  {
   "cell_type": "markdown",
   "metadata": {},
   "source": [
    "## Create a VM\n",
    "\n",
    "![](images/vm/step_1.png)\n",
    "![](images/vm/step_2.png)\n",
    "![](images/vm/step_3.png)\n",
    "![](images/vm/step_4.png)\n",
    "![](images/vm/step_5.png)\n",
    "![](images/vm/step_6.png)\n",
    "![](images/vm/step_7.png)\n",
    "![](images/vm/step_8.png)\n",
    "![](images/vm/step_9.png)\n",
    "![](images/vm/step_10.png)\n",
    "![](images/vm/step_11.png)\n",
    "![](images/vm/step_12.png)\n",
    "![](images/vm/step_13.png)\n",
    "![](images/vm/step_14.png)\n",
    "![](images/vm/step_15.png)\n",
    "![](images/vm/step_16.png)\n",
    "![](images/vm/step_17.png)"
   ]
  },
  {
   "cell_type": "markdown",
   "metadata": {},
   "source": [
    "## Configure the VM with our web app.\n",
    "\n",
    "We can connect to our VM using linux terminal or Putty from windows. Here we use Azure CLI to connect with VM. You can run the same commands in linux /putty terminal.\n",
    "![](images/vm/step_18.png)\n",
    "![](images/vm/step_19.png)\n",
    "![](images/vm/step_20.png)\n",
    "![](images/vm/step_21.png)\n",
    "![](images/vm/step_22.png)\n",
    "![](images/vm/step_23.png)\n",
    "![](images/vm/step_24.png)\n",
    "![](images/vm/step_25.png)\n",
    "![](images/vm/step_26.png)"
   ]
  },
  {
   "cell_type": "markdown",
   "metadata": {},
   "source": [
    "## Configure the network\n",
    "\n",
    "Since our App will be running in the Virtual environment in the Azure cloud, we cannot access our application from the external internet. We need to configure few ports to reach our application.\n",
    "\n",
    "![](images/vm/step_27.png)\n",
    "![](images/vm/step_28.png)\n",
    "![](images/vm/step_29.png)\n",
    "![](images/vm/step_30.png)\n",
    "![](images/vm/step_31.png)"
   ]
  },
  {
   "cell_type": "markdown",
   "metadata": {},
   "source": [
    "## Set our environment variables.\n",
    "![](images/vm/step_32.png)"
   ]
  },
  {
   "cell_type": "markdown",
   "metadata": {},
   "source": [
    "## Run the app\n",
    "\n"
   ]
  },
  {
   "cell_type": "markdown",
   "metadata": {},
   "source": [
    "\n",
    "![](images/vm/step_33.png)\n",
    "![](images/vm/step_34.png)\n",
    "![](images/vm/step_35.png)\n",
    "![](images/vm/step_36.png)"
   ]
  },
  {
   "cell_type": "markdown",
   "metadata": {},
   "source": []
  },
  {
   "cell_type": "code",
   "execution_count": null,
   "metadata": {},
   "outputs": [],
   "source": []
  }
 ],
 "metadata": {
  "kernelspec": {
   "display_name": "Python 3",
   "language": "python",
   "name": "python3"
  },
  "language_info": {
   "codemirror_mode": {
    "name": "ipython",
    "version": 3
   },
   "file_extension": ".py",
   "mimetype": "text/x-python",
   "name": "python",
   "nbconvert_exporter": "python",
   "pygments_lexer": "ipython3",
   "version": "3.6.9"
  }
 },
 "nbformat": 4,
 "nbformat_minor": 4
}
