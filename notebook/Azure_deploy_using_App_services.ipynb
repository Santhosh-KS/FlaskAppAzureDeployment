{
 "cells": [
  {
   "cell_type": "markdown",
   "metadata": {},
   "source": [
    "# Deploy Web application using \"Azure App services\"\n",
    "\n",
    "In this exercise we will learn how to deploy our web app by creating a \"Azure App services\". As a prerequisite we assume you have created the [Azure cloud account](https://portal.azure.com). "
   ]
  },
  {
   "cell_type": "markdown",
   "metadata": {},
   "source": [
    "![](images/app_service/step_1.png)"
   ]
  },
  {
   "cell_type": "markdown",
   "metadata": {},
   "source": [
    "![](images/app_service/step_2.png)"
   ]
  },
  {
   "cell_type": "markdown",
   "metadata": {},
   "source": [
    "![](images/app_service/step_3.png)"
   ]
  },
  {
   "cell_type": "markdown",
   "metadata": {},
   "source": [
    "![](images/app_service/step_4.png)"
   ]
  },
  {
   "cell_type": "markdown",
   "metadata": {},
   "source": [
    "The name you provide here should be globally unique. This name will appear in your final URL. Hence it is required to be globally unique.\n",
    "<br>\n",
    "![](images/app_service/step_5.png)"
   ]
  },
  {
   "cell_type": "markdown",
   "metadata": {},
   "source": [
    "We will use the Code present in one of the github repository. Hence select \"Code\"\n",
    "<br>\n",
    "![](images/app_service/step_6.png)"
   ]
  },
  {
   "cell_type": "markdown",
   "metadata": {},
   "source": [
    "Our app is Python based. Select the latest version of python.\n",
    "<br>\n",
    "![](images/app_service/step_7.png)"
   ]
  },
  {
   "cell_type": "markdown",
   "metadata": {},
   "source": [
    "We will deploy the app in Linux environment. \n",
    "<br>\n",
    "![](images/app_service/step_8.png)"
   ]
  },
  {
   "cell_type": "markdown",
   "metadata": {},
   "source": [
    "![](images/app_service/step_9.png)"
   ]
  },
  {
   "cell_type": "markdown",
   "metadata": {},
   "source": [
    "We will use the default \"**Premium V2 p1V2**\" instance resource allocated for our application for this exercise. If you want more compute power or higher memory or higher network bandwidth or even GPU's for your applications, then you have to change it according to your requirements. But for this exercise, default instance will be more than sufficient.\n",
    "<br>\n",
    "**NOTE:** Adding more resources obviously add up to the cost of your project. So choose the amount of resources required for your needs wisely.\n",
    "<br>\n",
    "\n",
    "![](images/app_service/step_10.png)"
   ]
  },
  {
   "cell_type": "markdown",
   "metadata": {},
   "source": [
    "![](images/app_service/step_11.png)"
   ]
  },
  {
   "cell_type": "markdown",
   "metadata": {},
   "source": [
    "Our app services is ready.\n",
    "<br>\n",
    "![](images/app_service/step_12.png)"
   ]
  },
  {
   "cell_type": "markdown",
   "metadata": {},
   "source": [
    "Let us see how our application looks.\n",
    "<br>\n",
    "![](images/app_service/step_13.png)"
   ]
  },
  {
   "cell_type": "markdown",
   "metadata": {},
   "source": [
    "We have not linked our code in to the app service. Hence We get a defalut App service page.\n",
    "<br>\n",
    "![](images/app_service/step_14.png)"
   ]
  },
  {
   "cell_type": "markdown",
   "metadata": {},
   "source": [
    "We have saved all our code in git hub repository. We will create a fork of the repo in to our individual account and try to link it with the \"App services\". We assume you already have a github account. \n",
    "\n",
    "Let us now go to the [github repository](https://github.com/bigvisionai/pytorch-web-app-deploy-azure). And click on the `fork` button. It will prompt you to sign in. Please sign in with your account. Follow along with the below image instructions\n",
    "<br>\n",
    "![](images/app_service/step_15.png)"
   ]
  },
  {
   "cell_type": "markdown",
   "metadata": {},
   "source": [
    "![](images/app_service/step_16.png)"
   ]
  },
  {
   "cell_type": "markdown",
   "metadata": {},
   "source": [
    "![](images/app_service/step_17.png)\n",
    "<br>\n",
    "\n",
    "After the `fork` we can resume our configuration work back in Azure portal."
   ]
  },
  {
   "cell_type": "markdown",
   "metadata": {},
   "source": [
    "![](images/app_service/step_18.png)"
   ]
  },
  {
   "cell_type": "markdown",
   "metadata": {},
   "source": [
    "Select the `github` widget. Note that it is not \"Authorised\" yet. We need to give permissions for \"Azure Applications\" to access your `github` account. Click on `Authorize` button.\n",
    "<br>\n",
    "![](images/app_service/step_19.png)"
   ]
  },
  {
   "cell_type": "markdown",
   "metadata": {},
   "source": [
    "After hitting the `Authorize` button, Azure portal will re-direct you to `github` page as shown below.\n",
    "![](images/app_service/step_20.png)"
   ]
  },
  {
   "cell_type": "markdown",
   "metadata": {},
   "source": [
    "Authorize by providing your github login password.\n",
    "<br>\n",
    "![](images/app_service/step_21.png)"
   ]
  },
  {
   "cell_type": "markdown",
   "metadata": {},
   "source": [
    "Once you have authorized the app, you will be re-directed back to your `Azure` portal. Notice that your name or your organization name will appear here once your authorization is successful.\n",
    "<br>\n",
    "![](images/app_service/step_22.png)"
   ]
  },
  {
   "cell_type": "markdown",
   "metadata": {},
   "source": [
    "Select the \"App service build service\".\n",
    "<br>\n",
    "![](images/app_service/step_23.png)"
   ]
  },
  {
   "cell_type": "markdown",
   "metadata": {},
   "source": [
    "Select the options as shown below.\n",
    "1. Select your github login account name.\n",
    "2. Select the github repository, which we created by `fork` option in previous step.\n",
    "3. Select the branch `master`.\n",
    "<br>\n",
    "\n",
    "![](images/app_service/step_24.png)"
   ]
  },
  {
   "cell_type": "markdown",
   "metadata": {},
   "source": [
    "We can validate if all our actions performed in previous step is valid. By looking the highlighted box below. Hit the `Finish` button.\n",
    "<br>\n",
    "\n",
    "![](images/app_service/step_25.png)"
   ]
  },
  {
   "cell_type": "markdown",
   "metadata": {},
   "source": [
    "Once you hit the `Finish` button, App service does the following.\n",
    "1. Creates a docker image.\n",
    "2. Clones your repository in the docker image.\n",
    "4. Creates a Virtual environment for your python application.\n",
    "3. Does the required installations of python configurations by running `pip install -r requirements.txt`\n",
    "<br>\n",
    "\n",
    "![](images/app_service/step_26.png)"
   ]
  },
  {
   "cell_type": "markdown",
   "metadata": {},
   "source": [
    "You can monitor the progress of the steps mentioned above in the console logs.\n",
    "<br>\n",
    "\n",
    "![](images/app_service/step_27.png)"
   ]
  },
  {
   "cell_type": "markdown",
   "metadata": {},
   "source": [
    "Installation takes some time. Once the installation is successful. It shows the status as `Success`. We can navigate and launch our app and see if everything worked.\n",
    "<br>\n",
    "\n",
    "![](images/app_service/step_28.png)\n",
    "<br>\n",
    "\n",
    "**IMPORTANT NOTE:** Run the below \"Redeploy\" step only when there is a failure during `pip install -r requiremnts.txt` step in the the previous step.\n",
    "\n",
    "<br>\n",
    "\n",
    "It is very important to have the successful `pip installation`, some times it fails to install the dependencies properly. There is nothing much we can do here but to retry. To re-start the pip installation you need to hit the \"Redeploy\" button as shown in the image below.\n",
    "<br>\n",
    "\n",
    "![](images/app_service/step_28_error.png)"
   ]
  },
  {
   "cell_type": "markdown",
   "metadata": {},
   "source": [
    "Instead of landing in Azure default web service page, we are getting some error!. It is good news. Our App service now has recognized our application. But it is not able to resolve the errors on its own. \n",
    "<br>\n",
    "We need to tell the App service which type of web server we will be using and which command we need to run during startup. \n",
    "\n",
    "![](images/app_service/step_29.png)"
   ]
  },
  {
   "cell_type": "markdown",
   "metadata": {},
   "source": [
    "If you remember our application depends on the `config.py` file which reads some `Environment` variables. We need to set them, so that our application boots up without errors. Let us see how to set those `Environment` variables.\n",
    "<br>\n",
    "\n",
    "![](images/app_service/step_30.png)"
   ]
  },
  {
   "cell_type": "markdown",
   "metadata": {},
   "source": [
    "We want to set the following `Environment` variables.\n",
    "```sh\n",
    "export FLASK_APP=wsgi.py\n",
    "export FLASK_DEBUG=0\n",
    "export APP_CONFIG_FILE=config.py\n",
    "export UPLOADED_PHOTOS_DEST=/tmp/images/\n",
    "export SECRET_KEY=\"Please_enter_your_own_secrete_key\"\n",
    "```\n",
    "\n",
    "Here is an example shown how to set the `FLASK_APP`. We need to repeat the same for rest of the variables.\n",
    "<br>\n",
    "\n",
    "![](images/app_service/step_31.png)"
   ]
  },
  {
   "cell_type": "markdown",
   "metadata": {},
   "source": [
    "Once we add all the varialbes. Here is how our list looks like. Hit `Save` button as shown to save the configurations.\n",
    "<br>\n",
    "\n",
    "![](images/app_service/step_32.png)"
   ]
  },
  {
   "cell_type": "markdown",
   "metadata": {},
   "source": [
    "![](images/app_service/step_33.png)"
   ]
  },
  {
   "cell_type": "markdown",
   "metadata": {},
   "source": [
    "### Start up command configuration\n",
    "\n",
    "We need to set the command to be run as part of the startup process. If you re-collect command we were using was\n",
    "`gunicorn --bind 0.0.0.0 -w 4 wsgi:app`. We need to set the same cammad as shown below in \"Startup Command\" field. Hit the save button after you are done filling the field.\n",
    "\n",
    "![](images/app_service/step_34.png)"
   ]
  },
  {
   "cell_type": "markdown",
   "metadata": {},
   "source": [
    "![](images/app_service/step_35.png)"
   ]
  },
  {
   "cell_type": "markdown",
   "metadata": {},
   "source": [
    "### Restart application after  configuration\n",
    "\n",
    "Since our App service is already running. It does not pick the changes dynamically. Hence we need to re-start the application.\n",
    "<br>\n",
    "\n",
    "![](images/app_service/step_36.png)"
   ]
  },
  {
   "cell_type": "markdown",
   "metadata": {},
   "source": [
    "![](images/app_service/step_37.png)"
   ]
  },
  {
   "cell_type": "markdown",
   "metadata": {},
   "source": [
    "Once application is re-started. It will take few minutes to get the application running again.\n",
    "<br>\n",
    "\n",
    "![](images/app_service/step_38.png)"
   ]
  },
  {
   "cell_type": "markdown",
   "metadata": {},
   "source": [
    "After few mins (aprox 15 mins). Navigate to the URL to browse our app. It should load our web app.\n",
    "<br>\n",
    "![](images/app_service/step_39.png)"
   ]
  },
  {
   "cell_type": "markdown",
   "metadata": {},
   "source": [
    "## Debugging the deployment failures.\n",
    "\n",
    "No matter how smooth we want the deployment to go through, there will always be some unforeseen errors we will encounter. If we could know what the errors are it is easier to fix. \n",
    "<br>\n",
    "In this section we learn a bit about the debugging techniques by browsing throw the logs. More importantly, where to find these hidden logs in the Azure environment."
   ]
  },
  {
   "cell_type": "markdown",
   "metadata": {},
   "source": [
    "### Log Stream\n",
    "Fortunately there is log stream available in Azure which will give us some clue about the progress of our deployment.\n",
    "<br>\n",
    "\n",
    "![](images/app_service/step_40.png)\n",
    "\n",
    "If you observe the success message as shown in the above image. You have followed the steps mentioned above and your application is set up properly. You just need to wait for few more minutes to get it loaded."
   ]
  },
  {
   "cell_type": "markdown",
   "metadata": {},
   "source": [
    "### Docker logs\n",
    "\n",
    "If there are some errors shown in the \"Log Stream\", but those logs are not sufficient to know what exactly is going wrong. We can get more details about the errors, if you can access the docker logs. Fortunately there is a way you can access the docker logs. Let us see how to access the docker logs\n",
    "<br>\n",
    "\n",
    "![](images/app_service/step_41.png)"
   ]
  },
  {
   "cell_type": "markdown",
   "metadata": {},
   "source": [
    "![](images/app_service/step_42.png)"
   ]
  },
  {
   "cell_type": "markdown",
   "metadata": {},
   "source": [
    "![](images/app_service/step_43.png)"
   ]
  },
  {
   "cell_type": "markdown",
   "metadata": {},
   "source": [
    "If there are any errors in you application. You can find the same in the docker logs as shown below. Note that, there will be one log for multiple reboots of your application.So the latest reboot logs will be found at the bottom of the logs file.\n",
    "<br>\n",
    "\n",
    "![](images/app_service/step_44.png)\n",
    "\n",
    "These error logs looks similar to the one we find during our local development process. If there is something wrong in our procedure we can try to fix it locally and submit the code to git hub and re-do the deployment process.\n",
    "\n",
    "**Note:** Above highlighted logs are only for your reference. There could be different error in your logs. Above highlighted error occurs when the application tries to run without our `Environment` variables set."
   ]
  }
 ],
 "metadata": {
  "kernelspec": {
   "display_name": "Python 3",
   "language": "python",
   "name": "python3"
  },
  "language_info": {
   "codemirror_mode": {
    "name": "ipython",
    "version": 3
   },
   "file_extension": ".py",
   "mimetype": "text/x-python",
   "name": "python",
   "nbconvert_exporter": "python",
   "pygments_lexer": "ipython3",
   "version": "3.6.9"
  }
 },
 "nbformat": 4,
 "nbformat_minor": 4
}
