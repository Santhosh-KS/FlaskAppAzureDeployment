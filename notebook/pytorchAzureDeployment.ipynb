{
 "cells": [
  {
   "cell_type": "markdown",
   "metadata": {},
   "source": [
    "# Overview"
   ]
  },
  {
   "cell_type": "markdown",
   "metadata": {},
   "source": [
    "We will build a Flask web application and learn how to deploy the Imagenet classifier using pytorch's prebuilt densenet121 model. The pre-built model was originally trained to identify 1000 classes. We will also learn how to deploy the web app in Azure cloud infrastructure. Here is a quick peek at the application we will build from scratch."
   ]
  },
  {
   "cell_type": "markdown",
   "metadata": {},
   "source": [
    "![](images/preview_ostrich.png \"Web app preview\")"
   ]
  },
  {
   "cell_type": "markdown",
   "metadata": {},
   "source": [
    "you can have a look at the deployed app [here](http://52.157.86.185:8000) \n",
    "<br>\n",
    "Here is the steps which we will follow to achieve the end result.\n",
    "* Build the `html` pages required for UI.\n",
    "* Make the `html` pages interactive by creating `routes`.\n",
    "* Build the model.\n",
    "* Deploy the web app with model using \n",
    "    * Azure Virtual Machines.\n",
    "    * Azure built in web app deployment mechanism using github 'actions'."
   ]
  },
  {
   "cell_type": "markdown",
   "metadata": {},
   "source": [
    "## Building  UI:"
   ]
  },
  {
   "cell_type": "markdown",
   "metadata": {},
   "source": [
    "It is good to have the general idea about how our app should look like. No, we are not talking about the aesthetic of the application. We are talking about how the user is going to interact with the app. Suppose for example in the web app we are going to implement, it is related to image, so we need to provide a button option to the end user to click and upload the image. Once user selects the image, it is nice to have it displayed on the screen. Also need to make sure user selects only image files not some other files like executables or scripts which will compromise our web application from malicious activities. We will touch up on the security aspects of the website later. Let us see how we want our skeleton app to look like.\n",
    "\n",
    "![](images/skeleton.jpg \"skeleton ui\")\n",
    "\n",
    "Below tree diagram shows how our code is organized. We will break it down layer by layer as we make progress."
   ]
  },
  {
   "cell_type": "markdown",
   "metadata": {},
   "source": [
    "\n",
    "```sh\n",
    "Application\n",
    "├── config.py\n",
    "├── flask_pytorch_web_app\n",
    "│   ├── __init__.py\n",
    "│   ├── model.py\n",
    "│   ├── static\n",
    "│   │   ├── css\n",
    "│   │   │   └── main.css\n",
    "│   │   ├── data\n",
    "│   │   │   └── imagenet_class_index.json\n",
    "│   │   └── images\n",
    "│   │       └── opencv-logo-1.png\n",
    "│   ├── templates\n",
    "│   │   ├── base.html\n",
    "│   │   ├── predict.html\n",
    "│   │   └── upload.html\n",
    "│   └── upload.py\n",
    "├── README.md\n",
    "├── setup.py\n",
    "├── start.sh\n",
    "└── wsgi.py\n",
    "```\n",
    "\n",
    "most of the html and styling aspects of the page lies in the \"templates and css\" directories.\n",
    "```sh\n",
    "│   ├── static\n",
    "│   │   ├── css\n",
    "│   │   │   └── main.css\n",
    "│   ├── templates\n",
    "│   │   ├── base.html\n",
    "│   │   ├── predict.html\n",
    "│   │   └── upload.html\n",
    "```"
   ]
  },
  {
   "cell_type": "markdown",
   "metadata": {},
   "source": [
    "## base.html\n",
    "Here is the complete `base.html`. "
   ]
  },
  {
   "cell_type": "markdown",
   "metadata": {},
   "source": [
    "```html\n",
    "<!DOCTYPE html>\n",
    "<html lang='en'>\n",
    "<head>\n",
    "  {% block head %} {% endblock %}\n",
    "</head>\n",
    "\n",
    "<body>\n",
    "  <div id=\"header\"> \n",
    "    <h3> Flask Web App</h3>\n",
    "  </div>\n",
    "  <div id=\"navbar\">  \n",
    "    <ul>\n",
    "      <li ><a href=\"{{ url_for('upload') }}\">Home</a></li>\n",
    "    </ul>\n",
    "  </div>\n",
    "  <div class=\"main\">\n",
    "    <div id=\"container\">\n",
    "      {% block body%}  {% endblock %}\n",
    "    </div>\n",
    "  </div>\n",
    "  <div id=\"footer\"> \n",
    "    <img id=\"logo\" src={{ url_for('static', filename='images/opencv-logo-1.png') }} >\n",
    "  </div>\n",
    "</body>\n",
    "\n",
    "</html>\n",
    "```"
   ]
  },
  {
   "cell_type": "markdown",
   "metadata": {},
   "source": [
    "The above html code looks complicated at first. But it is extremely simple to understand, if you know few basics. \n",
    "<br>\n",
    "Flask uses a templating syntax called [Jinja](https://jinja.palletsprojects.com/en/2.11.x/templates/#) to render the html. `Jinja2` will greatly simplify `html` page rendering through python code. In its simpletx form, our  `base.html` looks as shown below. "
   ]
  },
  {
   "cell_type": "markdown",
   "metadata": {},
   "source": [
    "```html\n",
    "<!DOCTYPE html>\n",
    "<html lang='en'>\n",
    "<head>\n",
    "  {% block head %} {% endblock %}\n",
    "</head>\n",
    "\n",
    "<body>\n",
    "  {% block body%} {% endblock %}\n",
    "</body>\n",
    "\n",
    "</html>\n",
    "```"
   ]
  },
  {
   "cell_type": "markdown",
   "metadata": {},
   "source": [
    "Suppose our web application supports multiple pages. We want to have a similar look and feel for all the pages. The content in the body or header may change. But the over all look and feel should remain same. If we try to hand code all of these elements by hand, it becomes a more and more difficult as we keep adding new features and elements in to our website. It soon becomes a maintenance nightmare to update the website. This is where `Jinja` template parser comes to our rescue. It greatly reduces the effort of creating and maintaining our `html` pages. <br>Here `{% block head %} {% endblock %}` and `{% block body%} {% endblock %}` provides a place holder to add or delete  or hide the existing `html tags`. we can use to fill in the required content in new page. `Jinja` templating engine will identifies these blocks and generates the complete html file just when the page is rendered. \n",
    "<br>\n",
    "To understand it even better let us have a look at the `upload.html` file"
   ]
  },
  {
   "cell_type": "markdown",
   "metadata": {},
   "source": [
    "## upload.html\n",
    "\n",
    "\n",
    "```html\n",
    "{% extends 'base.html' %}\n",
    "\n",
    "{% block head %} \n",
    "  <title> Upload Image</title>\n",
    "{% endblock %}\n",
    "\n",
    "{% block body %} \n",
    "      <div id=\"form\">\n",
    "        <form method=POST enctype=multipart/form-data action=\"{{ url_for('upload') }}\">\n",
    "          <label for=\"inputfile\"> Input image file:  </label>\n",
    "          <input type=\"file\" name=\"image\" id=\"inputfile\" accept=\".jpg, .jpeg, .png\"> \n",
    "          <input type=\"submit\" value=\"Upload\">\n",
    "        </form>\n",
    "      </div> \n",
    "      {% if obj.is_image_display %}\n",
    "      <div > \n",
    "        <img id=\"inputImage\" src={{ url_for('send_file', filename=obj.image) }} alt=\"User Image\">\n",
    "      </div>\n",
    "      {% endif %}\n",
    "{% endblock %}\n",
    "```"
   ]
  },
  {
   "cell_type": "markdown",
   "metadata": {},
   "source": [
    "Here in `upload.html` file we are not writing the complete `html` file, we are just inheriting the `base.html` file using `{% extends 'base.html' %}` since our `base.html` file already has the needed fields.\n",
    "All you need to do is add or extend the html page according to your needs. `jinja` template engine will do the fill in the blanks for you.\n"
   ]
  },
  {
   "cell_type": "markdown",
   "metadata": {},
   "source": [
    "\n",
    "Now in our `update.html` file\n",
    "```html\n",
    "{% block head %} \n",
    "  <title> Upload Image</title>\n",
    "{% endblock %}\n",
    "```\n",
    "code simply extends the placeholder which we left in `base.html` file in the `head` tag. In this example we are adding a new `title` tag in to our `upload.html` page.\n",
    "\n",
    "similarly we want a upload button which should prompt the user to select an image file upon clicking the same. That is exactly what we are doing with the below piece of html code. This piece of UI we want it to appear in the body portion of the html file hence we extend the `{% block body%} {% endblock %}` by putting the required html tags to populate the upload button\n",
    "\n",
    "```html\n",
    "{% block body%} \n",
    "     <div id=\"form\">\n",
    "        <form method=POST enctype=multipart/form-data action=\"{{ url_for('upload') }}\">\n",
    "          <label for=\"inputfile\"> Input image file:  </label>\n",
    "          <input type=\"file\" name=\"image\" id=\"inputfile\" accept=\".jpg, .jpeg, .png\"> \n",
    "          <input type=\"submit\" value=\"Upload\">\n",
    "        </form>\n",
    "      </div> \n",
    "{% endblock %}\n",
    "```"
   ]
  },
  {
   "cell_type": "markdown",
   "metadata": {},
   "source": [
    "To understand the code in between the tag `<form> ..... </form>` tag it is better to look at the final output and compare it back with our code. Here is our page with some css magic, which we will cover shortly.\n",
    "\n",
    "![](images/upload_button_only.png)\n",
    "\n",
    "It is html standard to get the user provided data using `form` tags.\n",
    "\n",
    "```html \n",
    "<form method=POST enctype=multipart/form-data action=\"{{ url_for('upload') }}\">\n",
    "```\n",
    "\n",
    "We specify the type of `method` (GET/POST/DELETE/PUT etc) to be used using `method=POST` attribute. In our app we are trying to get the image to be uploaded, hence we need to use `enctype=multipart/form-data` attribute to receive the uploaded image data. `action` attribute is used to pass the image available in the form to a `upload` function in our flask application. The syntax `{{ }}` is the way to tell the `jinja` template engine to find the appropriate method named `upload` in the flask python files. `url_for` is a utility function available in flask library to access the relative path/resources of the flask app. As a best practice, we should always use `url_for` when ever we try to access the resources in our web app, this will help us bind our resources such as logos/css files/images/redirection html files etc to the web app in a secure way.\n",
    "\n",
    "```html\n",
    "    <label for=\"inputfile\"> Input image file:  </label>\n",
    "```\n",
    "As the tag name `label` suggest it gives a label to our input field to hint the user.\n",
    "\n",
    "```html\n",
    "    <input type=\"file\" name=\"image\" id=\"inputfile\" accept=\".jpg, .jpeg, .png\"> \n",
    "```\n",
    "`input` tag attributes are prettymuch self explainatory. The `accept` attributes tells the browser to filter out and display only the files with extensions `.jpg, .jpeg, .png` to be displayed for selection. This will solve the problem of user accidentally selecting the incorrect types of file such as `.txt or .sh` etc.\n",
    "\n",
    "```html\n",
    "    <input type=\"submit\" value=\"Upload\">\n",
    "```\n",
    "The attribute `submit` will send the message when user clicks the button using the appropriate methods mentioned in `<form method=POST>`. In our case it is `POST` method.\n",
    "<br>\n",
    "`value` attribute is the name which is displayed on the `button`."
   ]
  },
  {
   "cell_type": "markdown",
   "metadata": {},
   "source": [
    "## predict.html\n",
    "\n",
    "Similar to `upload.html` we have `predict.html` file. We use this file when we want to do the prediction of the image. Let us look at the `predict.html` file\n",
    "\n",
    "```html\n",
    "{% extends 'base.html' %}\n",
    "\n",
    "{% block head %} \n",
    "  <title> Predict Image</title>\n",
    "{% endblock %}\n",
    "\n",
    "{% block body %} \n",
    "      {% if obj.is_image_display %}\n",
    "        {% if obj.is_predicted %}\n",
    "          <div id=\"prediction\"> \n",
    "            <h1> Image has : {{ obj.value }}!! </h1> \n",
    "          </div>\n",
    "        {% else %}\n",
    "          <div>\n",
    "            <form method=POST enctype=multipart/form-data action=\"{{ url_for('prediction', filename=obj.image) }}\">\n",
    "              <input type=\"submit\" value=\"Classify Image\" id=\"blockButton\">\n",
    "            </form>\n",
    "          </div> \n",
    "        {% endif %}\n",
    "        <div > \n",
    "          <img id=\"inputImage\" src={{ url_for('send_file', filename=obj.image) }} alt=\"User Image\">\n",
    "        </div>\n",
    "      {% endif %}\n",
    "{% endblock %}\n",
    "\n",
    "```\n",
    "\n",
    "If you look carefully this file looks very similar to `upload.html` we are still using the same inheritance  `{% extends 'base.html' %}` and extending the `base.html` file and fill in the `{% block body %}` and `{% block body %}`. The additional `{% if %} {% else %}  {% endif %}` are standard `jinja` conditionals to enable or disable `div` elements depending on if the image file exists or not. You can read more about the [jinja condtionals syntax here](https://jinja.palletsprojects.com/en/2.11.x/templates/#if)."
   ]
  },
  {
   "cell_type": "markdown",
   "metadata": {},
   "source": [
    "### CSS\n",
    "\n",
    "To beuatify the web pages we are using simple `css` file called `main.css`. You can get very creative with CSS with the look and feel of your webpage. There are many tutorials available online to learn and master `css`.\n",
    "Instead of teaching verything about css, here we just teach you one trick that will help you understand the `css` file and to which specific element of `html` tag `css` styling is being applied.\n",
    "<br>\n",
    "If you find attribute as `id` or `class` in html files, you can search for those names in `css` file to find the style applied on that `div`.\n",
    "\n",
    "for example in our `upload.html` file:\n",
    "\n",
    "```html\n",
    "      <div id=\"form\">\n",
    "        <form method=POST enctype=multipart/form-data action=\"{{ url_for('upload') }}\">\n",
    "          <label for=\"inputfile\"> Input image file:  </label>\n",
    "          <input type=\"file\" name=\"image\" id=\"inputfile\" accept=\".jpg, .jpeg, .png\"> \n",
    "          <input type=\"submit\" value=\"Upload\">\n",
    "        </form>\n",
    "      </div> \n",
    "```\n",
    "\n",
    "if you search for \"form\" in our `main.css` file\n",
    "\n",
    "```css\n",
    "#form {\n",
    "  margin: 10px;\n",
    "  display: block;\n",
    "  margin-left: auto;\n",
    "  margin-right: auto;\n",
    "  width: 50%;\n",
    "  color: white;\n",
    "  border: none;\n",
    "  background-color: #CC7E33;\n",
    "  padding: 14px 28px;\n",
    "  font-size: 120%;\n",
    "  font-weight: bolder;\n",
    "  cursor: pointer;\n",
    "  text-align: center;\n",
    "  border-radius: 5px;\n",
    "}\n",
    "\n",
    "```\n",
    "There you go, this is the `css` style which we have used to in this application for the `form` tag. The \"`#`\" sign in front of \"form\" tells us that it is an \"`id`\" attribute (`<div id=\"form\">`) and if there is a \"`.`\" it means it is a `class` attribute (`<div class=\"form\">`). To understand the main.css file used in example, this much information is sufficient for now."
   ]
  },
  {
   "cell_type": "markdown",
   "metadata": {},
   "source": [
    "We still have not done any linking of page and what action to take on clicking the upload button etc. We will get in to those details shortly. But we have all the UI elements which we wanted. For now we just fast forward a bit to see our results with our initial expectation.\n",
    "![](images/before_classify_partial.png)"
   ]
  },
  {
   "cell_type": "code",
   "execution_count": null,
   "metadata": {},
   "outputs": [],
   "source": []
  },
  {
   "cell_type": "code",
   "execution_count": null,
   "metadata": {},
   "outputs": [],
   "source": []
  }
 ],
 "metadata": {
  "kernelspec": {
   "display_name": "Python 3",
   "language": "python",
   "name": "python3"
  },
  "language_info": {
   "codemirror_mode": {
    "name": "ipython",
    "version": 3
   },
   "file_extension": ".py",
   "mimetype": "text/x-python",
   "name": "python",
   "nbconvert_exporter": "python",
   "pygments_lexer": "ipython3",
   "version": "3.6.9"
  }
 },
 "nbformat": 4,
 "nbformat_minor": 4
}
