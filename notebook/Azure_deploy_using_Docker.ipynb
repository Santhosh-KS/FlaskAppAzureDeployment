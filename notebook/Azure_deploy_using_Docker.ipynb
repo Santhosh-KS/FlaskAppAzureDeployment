{
 "cells": [
  {
   "cell_type": "markdown",
   "metadata": {},
   "source": [
    "# Deploy Web application using \"Azure App services using Docker image\"\n",
    "\n",
    "In this exercise we will learn how to deploy our web app by creating a Docker image and deploy the docker image using \"Azure App services\". As a prerequisite we assume you have created the [Azure cloud account](https://portal.azure.com). Along with that, we also assume you have installed Docker in your host development system. [Here is a quick link on how to get started on docker](https://docs.docker.com/get-started/)."
   ]
  },
  {
   "cell_type": "markdown",
   "metadata": {},
   "source": [
    "We will also learn \n",
    "* How to create a docker container registry in Azure environment.\n",
    "* How to create a docker image with our web application and push it in to docker container registry.\n",
    "* How to publish the docker image as web service in Azure environment."
   ]
  },
  {
   "cell_type": "markdown",
   "metadata": {},
   "source": [
    "## Create a Docker Container Registry\n",
    "\n",
    "Docker container registry in a high level is something similar to github. In github we store the source code files of our project. Where as we store Docker images in the container registry. Docker in itself is a vast subject to cover. We just breeze on few basic concepts to get you started, but we highly recommend you to go through the [official documents](https://docs.docker.com/develop/) to get better understanding of how docker system works and how you can use it in developing your applications."
   ]
  },
  {
   "cell_type": "markdown",
   "metadata": {},
   "source": [
    "As usual we start from our dash board. We search for \"Container registries\" in search bar. Select the option as show in the image below.\n",
    "<br>\n",
    "\n",
    "![](images/docker/step_1.png)"
   ]
  },
  {
   "cell_type": "markdown",
   "metadata": {},
   "source": [
    "![](images/docker/step_2.png)"
   ]
  },
  {
   "cell_type": "markdown",
   "metadata": {},
   "source": [
    "![](images/docker/step_3.png)"
   ]
  },
  {
   "cell_type": "markdown",
   "metadata": {},
   "source": [
    "![](images/docker/step_4.png)"
   ]
  },
  {
   "cell_type": "markdown",
   "metadata": {},
   "source": [
    "\n",
    "![](images/docker/step_5.png)"
   ]
  },
  {
   "cell_type": "markdown",
   "metadata": {},
   "source": [
    "Give some meaning full name to your container.\n",
    "<br>\n",
    "\n",
    "![](images/docker/step_6.png)"
   ]
  },
  {
   "cell_type": "markdown",
   "metadata": {},
   "source": [
    "![](images/docker/step_7.png)"
   ]
  },
  {
   "cell_type": "markdown",
   "metadata": {},
   "source": [
    "![](images/docker/step_8.png)"
   ]
  },
  {
   "cell_type": "markdown",
   "metadata": {},
   "source": [
    "It is important to note that, validation should pass. If there are any errors, you will not be able to create the required \"Container registry\".\n",
    "<br>\n",
    "\n",
    "![](images/docker/step_9.png)"
   ]
  },
  {
   "cell_type": "markdown",
   "metadata": {},
   "source": [
    "![](images/docker/step_10.png)"
   ]
  },
  {
   "cell_type": "markdown",
   "metadata": {},
   "source": [
    "### Get Container access keys\n",
    "\n",
    "Our Container is ready! Now we need to upload our docker image. (We have not created a docker image yet. We will create one shortly). But before we upload, we need to enable the admin user and get the \"username\" and \"password\" details to push our docker image in to the newly created \"Container registry\".\n",
    "<br>\n",
    "\n",
    "![](images/docker/step_11.png)"
   ]
  },
  {
   "cell_type": "markdown",
   "metadata": {},
   "source": [
    "By default, \"Admin\" user is disabled. We need to enable it manually to get our user name and password. Once you enable the \"Admin\" user your \"username and password\" will be displayed as shown below in the image. Please make a note of your \"username\" and \"password\", we will be using them in next few steps.\n",
    "<br>\n",
    "\n",
    "![](images/docker/step_12.png)"
   ]
  },
  {
   "cell_type": "markdown",
   "metadata": {},
   "source": [
    "## Create a docker image\n",
    "\n",
    "We assume you have installed required docker dependencies in your system. If not, [Here is a quick link on how to get started on docker](https://docs.docker.com/get-started/)"
   ]
  },
  {
   "cell_type": "markdown",
   "metadata": {},
   "source": [
    "Let us clone and change directory to our repository.\n",
    "\n",
    "```sh\n",
    "$ git clone https://github.com/bigvisionai/pytorch-web-app-deploy-azure.git\n",
    "$ cd pytorch-web-app-deploy-azure\n",
    "```\n",
    "Here are the contents of our project directory.\n",
    "```sh\n",
    "$ ls\n",
    "config.py  Dockerfile  flask_pytorch_web_app  local_run.sh docker_run.sh  README.md  requirements.txt  setup.py  torchapp.ini  wsgi.py\n",
    "```\n",
    "To generate a Docker image we need to have a file called `Dockerfile` in our project. Let us have a closer look at the contents of the `Dockerfile`\n",
    "<br>\n",
    "\n",
    "```sh\n",
    "$ cat Dockerfile \n",
    "FROM python:3.8.2-slim\n",
    "\n",
    "COPY requirements.txt /\n",
    "RUN pip3 install -r /requirements.txt\n",
    "\n",
    "COPY . /app\n",
    "WORKDIR /app\n",
    "EXPOSE 80\n",
    "CMD [ \"bash\", \"docker_run.sh\" ]\n",
    "\n",
    "```"
   ]
  },
  {
   "cell_type": "markdown",
   "metadata": {},
   "source": [
    "Let us dissect the `Dockerfile`.\n",
    "\n",
    "We are using the official `python` [docker image](https://hub.docker.com/_/python) as our base image. Specifically version `3.8.2-slim`\n",
    "\n",
    "We copy our requirements.txt file in to our docker image `COPY requirements.txt /` to install the dependencies of our web application.\n",
    "\n",
    "We inform the docker to do the installation of dependencies using `RUN pip3 install -r /requirements.txt`.\n",
    "\n",
    "Next, we will inform the docker to copy all the files of our application's current directory `.` in to the path `/app`.\n",
    "\n",
    "We make `/app` as the working directory, `WORKDIR /app`. \n",
    "\n",
    "We need to expose the port on which our application will be listening. `EXOPSE 80` exposes the `port 80` for our application.\n",
    "\n",
    "Now we run our script as we did during our application development process. `CMD [ \"bash\", \"docker_run.sh\" ]`. Since `docker_run.sh` is a shell script, we are using the `bash` command to execute the shell script."
   ]
  },
  {
   "cell_type": "markdown",
   "metadata": {},
   "source": [
    "### Build and test the docker image locally\n",
    "\n",
    "Now that we understand how the `Dockerfile` is organized. We need to initiate the `docker build` to generate our docker image. \n",
    "Command to build a docker image goes as follows.\n",
    "\n",
    "```sh\n",
    "$ sudo docker build --tag <name_of_your_docker_image> <path_to_Dockerfile> \n",
    "```\n",
    "**For Example:**\n",
    "\n",
    "```sh\n",
    "$ sudo docker build --tag imagenetpytorchwebapp .\n",
    "```\n",
    "Above command will initiate the build and we observe the logs as shown below.\n",
    "```sh\n",
    "Sending build context to Docker daemon  351.7kB\n",
    "Step 1/7 : FROM python:3.8.2-slim\n",
    " ---> e7d894e42148\n",
    "Step 2/7 : COPY requirements.txt /\n",
    " ---> Using cache\n",
    " ---> 6280f67bd009\n",
    "Step 3/7 : RUN pip3 install -r /requirements.txt\n",
    " ---> Using cache\n",
    " ---> fd887298df22\n",
    "Step 4/7 : COPY . /app\n",
    " ---> ad9727c457b1\n",
    "Step 5/7 : WORKDIR /app\n",
    " ---> Running in 9ebb75c6a812\n",
    "Removing intermediate container 9ebb75c6a812\n",
    " ---> 1b9d3968cf2d\n",
    "Step 6/7 : EXPOSE 80\n",
    " ---> Running in 4363b7319564\n",
    "Removing intermediate container 4363b7319564\n",
    " ---> 1368d4cc1bde\n",
    "Step 7/7 : CMD [ \"bash\", \"docker_run.sh\" ]\n",
    " ---> Running in f6fe61069090\n",
    "Removing intermediate container f6fe61069090\n",
    " ---> d7cef53083f4\n",
    "Successfully built d7cef53083f4\n",
    "Successfully tagged imagenetpytorchwebapp:latest\n",
    "```\n",
    "Once our docker image is built we can run our image and test if our application is running through the docker image.\n",
    "\n",
    "**NOTE:** If you have done the virtual machine deployment approach on the same machine. Probably your nginx service would be still running and would be occupying port 80. Make sure you stop the nginx serivce (`sudo service nginx stop`).\n",
    "\n",
    "We run the following command to test our docker.\n",
    "\n",
    "```sh\n",
    "$ sudo docker run --publish 80:80 --detach --name localtesting imagenetpytorchwebapp \n",
    "```\n",
    "Here is the breakup of the command.\n",
    "\n",
    "`sudo docker run` to run the docker.\n",
    "`--publish 80:80` to tell the docker to publish the request arriving at Host machine's 80 to docker's port 80.\n",
    "`--detach` to inform the docker to detach it and run it as a separate process.\n",
    "`--name localtesting` Because we are detaching our app, we want it easier for us to navigate and identify the our docker image hence we use `--name` option and give a name of our choice. In our case, we call it `localtesting`. \n",
    "Finally we tell which image to run. In our case we want `imagenetpytorchwebapp` to be run.\n",
    "\n",
    "At any point to get the list of docker image running in your system you can run the following command.\n",
    "\n",
    "```sh\n",
    "$ sudo docker ps\n",
    "CONTAINER ID        IMAGE                   COMMAND               CREATED             STATUS              PORTS                NAMES\n",
    "e78d874b1e6a        imagenetpytorchwebapp   \"bash docker_run.sh\"   13 seconds ago      Up 10 seconds       0.0.0.0:80->80/tcp   localtesting\n",
    "\n",
    "```\n",
    "\n",
    "You can go to browser and type `localhost` and our application should be visible and you should be able to test it as earlier."
   ]
  },
  {
   "cell_type": "markdown",
   "metadata": {},
   "source": [
    "## Push the docker image in to \"Container registries\"\n",
    "Now, that we have created an image, we would like to push it to the docker container registries which we created in our previous step. Go back to your Azure portal. Navigate to your \"Container registry\" resource which you created. Click on \"Quick Start\" button on the left hand side panel. Note down the command as highlighted.\n",
    "<br>\n",
    "\n",
    "![](images/docker/step_14.png)\n",
    "\n",
    "<br>\n",
    "In our example, the container registry is called `opencvcontainer.azurecr.io` you need to copy name of your container registry as shown in the above image.\n",
    "\n",
    "Now run the command \n",
    "\n",
    "```sh\n",
    "sudo docker login <your_container_registry_uri>\n",
    "Username: <your_container_registry_user_name>\n",
    "Password: <your_container_registry_password>\n",
    "```\n",
    "If the login is successful you will see the log as shown below.\n",
    "```sh\n",
    "Login Succeeded\n",
    "```\n",
    "**NOTE:** You can get the `username` and `password` from the previous step **\"Get Container access keys\"**. \n",
    "\n",
    "**Example:**\n",
    "```sh\n",
    "sudo docker login opencvcontainer.azurecr.io\n",
    "Username: opencvcontainer\n",
    "Password: \n",
    "Login Succeeded\n",
    "```"
   ]
  },
  {
   "cell_type": "markdown",
   "metadata": {},
   "source": [
    "Once we have logged in, we need to tag our container and push it to the container registry.\n",
    "```sh\n",
    "$ sudo docker tag <your_docker_image_name> <your_container_registry_uri>/<your_docker_image_name>\n",
    "\n",
    "```\n",
    "\n",
    "**Example:**\n",
    "\n",
    "```sh\n",
    "$ sudo docker tag imagenetpytorchwebapp opencvcontainer.azurecr.io/imagenetpytorchwebapp\n",
    "```\n",
    "\n",
    "<br>\n",
    "\n",
    "![](images/docker/step_15.png)\n",
    "\n",
    "Finally we can use the `docker push` command to push the docker image to our container registry.\n",
    "```sh\n",
    "sudo docker push  <your_container_registry_uri>/<your_docker_image_name>\n",
    "\n",
    "```\n",
    "**Example:**\n",
    "\n",
    "```sh\n",
    "$ sudo docker push opencvcontainer.azurecr.io/imagenetpytorchwebapp\n",
    "```\n",
    "<br>\n",
    "The docker image will be uploaded in to your registry. It will take some time to push the image in to the container registry. You should start observing the logs something similar to the one shown below.\n",
    "<br>\n",
    "\n",
    "```sh\n",
    "The push refers to repository [opencvcontainer.azurecr.io/imagenetpytorchwebapp]\n",
    "dc5de5bf80a9: Pushed \n",
    "2cdddcf57cce: Pushed \n",
    "fdc7e4b93ce0: Pushed \n",
    "a9e858adafbc: Pushed \n",
    "62cdbc1bc81e: Pushed \n",
    "dac74b28432f: Pushed \n",
    "6376837eded8: Pushed \n",
    "c2adabaecedb: Pushed \n",
    "\n",
    "latest: digest: sha256:a794d68d9ec4364ff3ca63d576432394742cb961f7c32125072d5a071b32dfc4 size: 2001\n",
    "```"
   ]
  },
  {
   "cell_type": "markdown",
   "metadata": {},
   "source": [
    "Once the `docker push` is successful. We can verify the same by again navigating back to our container registry resource in the Azure portal.\n",
    "<br>\n",
    "\n",
    "![](images/docker/step_16.png)"
   ]
  },
  {
   "cell_type": "markdown",
   "metadata": {},
   "source": [
    "## Create an App service using Docker image\n",
    "<br>\n",
    "Similar to our Application deployment using \"App service\" method, we need to create the resources, this time we use the docker image which we just pushed in to our container registry.\n",
    "<br>\n",
    "\n",
    "![](images/docker/step_17.png)"
   ]
  },
  {
   "cell_type": "markdown",
   "metadata": {},
   "source": [
    "![](images/docker/step_18.png)"
   ]
  },
  {
   "cell_type": "markdown",
   "metadata": {},
   "source": [
    "![](images/docker/step_19.png)"
   ]
  },
  {
   "cell_type": "markdown",
   "metadata": {},
   "source": [
    "![](images/docker/step_20.png)"
   ]
  },
  {
   "cell_type": "markdown",
   "metadata": {},
   "source": [
    "![](images/docker/step_21.png)"
   ]
  },
  {
   "cell_type": "markdown",
   "metadata": {},
   "source": [
    "We select the \"Docker Container\" as our option for \"Publish\" field.\n",
    "<br>\n",
    "\n",
    "![](images/docker/step_22.png)"
   ]
  },
  {
   "cell_type": "markdown",
   "metadata": {},
   "source": [
    "![](images/docker/step_23.png)"
   ]
  },
  {
   "cell_type": "markdown",
   "metadata": {},
   "source": [
    "![](images/docker/step_24.png)\n",
    "\n",
    "<br>\n",
    "It is time to link the docker image."
   ]
  },
  {
   "cell_type": "markdown",
   "metadata": {},
   "source": [
    "![](images/docker/step_25_a.png)"
   ]
  },
  {
   "cell_type": "markdown",
   "metadata": {},
   "source": [
    "Select the source of the image container as \"Azure Container Registry\"\n",
    "<br>\n",
    "\n",
    "![](images/docker/step_25_b.png)"
   ]
  },
  {
   "cell_type": "markdown",
   "metadata": {},
   "source": [
    "Since we have only one docker image in our container registery there is nothing much to do. But if you already have multiple images and different versions of the same app, then care should be taken to select the appropriate options.\n",
    "<br>\n",
    "\n",
    "![](images/docker/step_25.png)"
   ]
  },
  {
   "cell_type": "markdown",
   "metadata": {},
   "source": [
    "![](images/docker/step_27.png)"
   ]
  },
  {
   "cell_type": "markdown",
   "metadata": {},
   "source": [
    "It will take some time to get the app linked.  Once it is successful you can go back to the overview page. and navigate to our app link as shown below.\n",
    "<br>\n",
    "\n",
    "![](images/docker/step_28.png)"
   ]
  },
  {
   "cell_type": "markdown",
   "metadata": {},
   "source": [
    "![](images/docker/step_29.png)"
   ]
  },
  {
   "cell_type": "markdown",
   "metadata": {},
   "source": [
    "![](images/docker/step_30.png)"
   ]
  },
  {
   "cell_type": "markdown",
   "metadata": {},
   "source": [
    "## Short cut approach to load the app using docker image.\n",
    "\n",
    "There is also a shortcut approach we can use to quickly deploy the app. \n",
    "\n",
    "![](images/docker/shortcut_1.png)\n",
    "![](images/docker/shortcut_2.png)"
   ]
  },
  {
   "cell_type": "code",
   "execution_count": null,
   "metadata": {},
   "outputs": [],
   "source": []
  }
 ],
 "metadata": {
  "kernelspec": {
   "display_name": "Python 3",
   "language": "python",
   "name": "python3"
  },
  "language_info": {
   "codemirror_mode": {
    "name": "ipython",
    "version": 3
   },
   "file_extension": ".py",
   "mimetype": "text/x-python",
   "name": "python",
   "nbconvert_exporter": "python",
   "pygments_lexer": "ipython3",
   "version": "3.6.9"
  }
 },
 "nbformat": 4,
 "nbformat_minor": 4
}
